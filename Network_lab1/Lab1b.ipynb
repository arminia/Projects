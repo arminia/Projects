{
 "cells": [
  {
   "cell_type": "code",
   "execution_count": 1,
   "metadata": {
    "collapsed": true
   },
   "outputs": [
    {
     "name": "stdout",
     "output_type": "stream",
     "text": [
      "Ready to serve...\n"
     ]
    }
   ],
   "source": [
    "from socket import *\n",
    "import datetime\n",
    "import threading\n",
    "\n",
    "\"\"\"\n",
    "memo:\n",
    "\"thread\" vs \"threading\" : thread module has been considered as \"deprecated\" in python3, thread is _thread;\n",
    "\"thread\" is infrastructure code for threding to implement.\n",
    "Using threading.Thread the object to pass the paramenter and Thread.start(); for loop to join Thread\n",
    "Override the Thread object __init__ and run methods\n",
    "In each thread, do not put connectionSocket.close()in thread while loop.\n",
    "\"\"\"\n",
    "class ClientThread(threading.Thread):\n",
    "\tdef __init__(self, connect, address):\n",
    "\t\tthreading.Thread.__init__(self)\n",
    "\t\tself.connectionSocket = connect\n",
    "\t\tself.addr = address\n",
    "\tdef run(self):\n",
    "\t\twhile True:\n",
    "\t\t\ttry:\n",
    "\t\t\t\tmessage = connectionSocket.recv(1024)\n",
    "\t\t\t\t#Fill in start #Fill in end \n",
    "\t\t\t\tif not message:\n",
    "\t\t\t\t\tbreak\n",
    "\t\t\t\tprint(\"message: \\n\", message)\n",
    "\t\t\t\tfilename =  repr(message).split()[1]\n",
    "\t\t\t\tf = open(\"C:/inetpub/wwwroot/\" + filename[1:],\"r\")\n",
    "\t\t\t\toutputdata = f.read() \n",
    "\t\t\t\tprint(\"outputdata:\", outputdata)\n",
    "\t\t\t\tnow = datetime.datetime.now()\n",
    "\t\t\t\t#Fill in start #Fill in end \n",
    "\t\t\t\t#Send one HTTP header line into socket\n",
    "\t\t\t\t#Fill in start\n",
    "\n",
    "\t\t\t\tfirst_header = \"HTTP/1.1 200 OK\"\n",
    "\t\t\t\t# alive ={\n",
    "\t\t\t\t# \t\"timeout\":10,\n",
    "\t\t\t\t# \t\"max\":100,\n",
    "\t\t\t\t# }\n",
    "\t\t\t\theader_info = {\n",
    "\t\t\t\t\t# \"Date\": now.strftime(\"%Y-%m-%d %H:%M\"),\n",
    "\t\t\t\t\t\"Content-Length\": len(outputdata),\n",
    "\t\t\t\t\t\"Keep-Alive\": \"timeout=%d,max=%d\" %(10,100),\n",
    "\t\t\t\t\t\"Connection\": \"Keep-Alive\",\n",
    "\t\t\t\t\t\"Content-Type\": \"text/html\"\n",
    "\t\t\t\t}\n",
    "\t\t\t\t\n",
    "\t\t\t\tfollowing_header = \"\\r\\n\".join(\"%s:%s\" % (item, header_info[item]) for item in header_info)\n",
    "\t\t\t\tprint(\"following_header:\", following_header)\n",
    "\t\t\t\tconnectionSocket.send(\"%s\\r\\n%s\\r\\n\\r\\n\" %(first_header, following_header))\n",
    "\n",
    "\t\t\t\t# connectionSocket.send(\"\\r\\n\")\n",
    "\t\t\t\t # Date: %s\\r\\nKeep-Alive: timeout=10, max=100\\r\\n Connection: nKeep-Alive\\r\\n Content-Type: text/html;charset= utf-8\" %(now.strftime(\"%Y-%m-%d %H:%m\")))\n",
    "\t\t\t\t#Fill in end\n",
    "\t\t\t\t#Send the content of the requested file to the client\n",
    "\t\t\t\tfor i in range(0, len(outputdata)):\n",
    "\t\t\t\t\tconnectionSocket.send(outputdata[i])\n",
    "\t\t\texcept IOError:\n",
    "\t\t\t\t#Send response message for file not found\n",
    "\t\t\t\t#Fill in start \n",
    "\t\t\t\tconnectionSocket.send(\"HTTP/1.1 404 Not Found\\r\\n\\r\\n\")\n",
    "\t\t\t\t# Content-Type:text/html\\r\\n\\r\\n<!doctype html><html><body><h1>404 Not Found<h1></body></html>\n",
    "\t\t\t\t#Fill in end\n",
    "\t\t\t\t#Close client socket \n",
    "\t\t\t\t#Fill in start \n",
    "\t\t\t\t#Fill in end\n",
    "\n",
    "if __name__ == '__main__':\n",
    "\tserverSocket = socket(AF_INET, SOCK_STREAM) #Prepare a sever socket\n",
    "\t#Fill in start\n",
    "\tserverPort = 6789\n",
    "\tserverSocket.bind(('',serverPort))\n",
    "\tserverSocket.listen(100)\n",
    "\tthreads=[]\n",
    "\t#Fill in end\n",
    "\twhile True:\n",
    "\t\t#Establish the connection\n",
    "\t\tprint('Ready to serve...')\n",
    "\t\tconnectionSocket, addr = serverSocket.accept()\n",
    "\t\tprint(\"addr:\\n\", addr)\n",
    "\t\t#Fill in start\n",
    "\t\t#Fill in end\n",
    "\t\tclient_thread = ClientThread(connectionSocket,addr)\n",
    "\t\tclient_thread.start()\n",
    "\t\tclient_thread.setDaemon(True)\n",
    "\t\tthreads.append(client_thread)\n",
    "\n",
    "\t#main thread wait all threads finish then close the connection\n",
    "\t\"\"\"\n",
    "\t# for thread in threads:\n",
    "\t# \tthread.join()\n",
    "\tIf I put this, Chrome will not gonna work, safari will work.\n",
    "\t\"\"\"\n",
    "\tserverSocket.close()"
   ]
  },
  {
   "cell_type": "code",
   "execution_count": null,
   "metadata": {},
   "outputs": [],
   "source": [
    ""
   ]
  }
 ],
 "metadata": {
  "kernelspec": {
   "display_name": "Python 2",
   "language": "python",
   "name": "python2"
  },
  "language_info": {
   "codemirror_mode": {
    "name": "ipython",
    "version": 2.0
   },
   "file_extension": ".py",
   "mimetype": "text/x-python",
   "name": "python",
   "nbconvert_exporter": "python",
   "pygments_lexer": "ipython2",
   "version": "2.7.6"
  }
 },
 "nbformat": 4,
 "nbformat_minor": 0
}