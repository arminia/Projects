{
 "cells": [
  {
   "cell_type": "code",
   "execution_count": 1,
   "metadata": {
    "collapsed": true
   },
   "outputs": [
    {
     "name": "stdout",
     "output_type": "stream",
     "text": [
      "Ready to serve...\n"
     ]
    },
    {
     "name": "stdout",
     "output_type": "stream",
     "text": [
      "Hello World!\nReady to serve...\n"
     ]
    },
    {
     "name": "stdout",
     "output_type": "stream",
     "text": [
      "Ready to serve...\n"
     ]
    },
    {
     "name": "stdout",
     "output_type": "stream",
     "text": [
      "Ready to serve...\n"
     ]
    },
    {
     "ename": "IndexError",
     "evalue": "list index out of range",
     "traceback": [
      "\u001b[0;31m---------------------------------------------------------------------------\u001b[0m",
      "\u001b[0;31mIndexError\u001b[0m                                Traceback (most recent call last)",
      "\u001b[0;32m<ipython-input-1-cdf94af07723>\u001b[0m in \u001b[0;36m<module>\u001b[0;34m()\u001b[0m\n\u001b[1;32m     17\u001b[0m         \u001b[1;31m#get the requested file from the server's file system\u001b[0m\u001b[1;33m\u001b[0m\u001b[1;33m\u001b[0m\u001b[0m\n\u001b[1;32m     18\u001b[0m         \u001b[0mstrmessage\u001b[0m \u001b[1;33m=\u001b[0m \u001b[0mrepr\u001b[0m\u001b[1;33m(\u001b[0m\u001b[0mmessage\u001b[0m\u001b[1;33m)\u001b[0m\u001b[1;33m\u001b[0m\u001b[0m\n\u001b[0;32m---> 19\u001b[0;31m         \u001b[0mfilename\u001b[0m \u001b[1;33m=\u001b[0m \u001b[0mstrmessage\u001b[0m\u001b[1;33m.\u001b[0m\u001b[0msplit\u001b[0m\u001b[1;33m(\u001b[0m\u001b[1;34m\" \"\u001b[0m\u001b[1;33m)\u001b[0m\u001b[1;33m[\u001b[0m\u001b[1;36m1\u001b[0m\u001b[1;33m]\u001b[0m\u001b[1;33m\u001b[0m\u001b[0m\n\u001b[0m\u001b[1;32m     20\u001b[0m         \u001b[0mf\u001b[0m \u001b[1;33m=\u001b[0m \u001b[0mopen\u001b[0m\u001b[1;33m(\u001b[0m\u001b[1;34m\"C:/inetpub/wwwroot/\"\u001b[0m \u001b[1;33m+\u001b[0m \u001b[0mfilename\u001b[0m\u001b[1;33m[\u001b[0m\u001b[1;36m1\u001b[0m\u001b[1;33m:\u001b[0m\u001b[1;33m]\u001b[0m\u001b[1;33m,\u001b[0m\u001b[1;34m\"r\"\u001b[0m\u001b[1;33m)\u001b[0m\u001b[1;33m\u001b[0m\u001b[0m\n\u001b[1;32m     21\u001b[0m         \u001b[0moutputdata\u001b[0m \u001b[1;33m=\u001b[0m \u001b[0mf\u001b[0m\u001b[1;33m.\u001b[0m\u001b[0mread\u001b[0m\u001b[1;33m(\u001b[0m\u001b[1;33m)\u001b[0m\u001b[1;33m\u001b[0m\u001b[0m\n",
      "\u001b[0;31mIndexError\u001b[0m: list index out of range"
     ],
     "output_type": "error"
    }
   ],
   "source": [
    "#import socket modules\n",
    "from socket import *\n",
    "import sys  #In order to terminate the program\n",
    "\n",
    "serverSocket = socket(AF_INET, SOCK_STREAM)\n",
    "#Prepare a server socket\n",
    "serverPort = 80\n",
    "serverSocket.bind(('', serverPort))\n",
    "serverSocket.listen(1)\n",
    "while True:\n",
    "    #Establish the connection\n",
    "    print('Ready to serve...')\n",
    "    connectionSocket, addr = serverSocket.accept()\n",
    "    try:\n",
    "        #decoding or parsing the HTTP\n",
    "        message = connectionSocket.recv(1024).decode()\n",
    "        #get the requested file from the server's file system\n",
    "        strmessage = repr(message)\n",
    "        filename = strmessage.split(\" \")[1]\n",
    "        f = open(\"C:/inetpub/wwwroot/\" + filename[1:],\"r\")\n",
    "        outputdata = f.read()\n",
    "        print(outputdata)\n",
    "        #Send one HTTP header line into socket\n",
    "        #Fill in start\n",
    "        connectionSocket.send('HTTP/1.1 200 OK\\nContent-Type: text/html\\n\\n'.encode())\n",
    "        connectionSocket.send('HTTP/1.1 200 OK\\nContent-Type: text/html\\n\\n'.encode())\n",
    "        #connectionSocket.send('\\nHTTP/1.1 200 OK\\r\\n'.encode())\n",
    "        #connectionSocket.send(outputdata.encode())\n",
    "        #Fill in end\n",
    "        #Send the content of the requested file to the client\n",
    "        for i in range(0, len(outputdata)):\n",
    "            connectionSocket.send(outputdata[i].encode())\n",
    "        connectionSocket.send(\"\\r\\n\".encode())\n",
    "        #Close the client connection socket\n",
    "        connectionSocket.close()\n",
    "    except IOError:\n",
    "        #Send response message for file not found\n",
    "        #Fill in start\n",
    "        connectionSocket.send('HTTP/1.1 404 Not Found\\nContent-Type: text/html\\n\\n'.encode())\n",
    "        connectionSocket.send('HTTP/1.1 404 Not Found\\nContent-Type: text/html\\n\\n'.encode())\n",
    "        connectionSocket.close()\n",
    "serverSocket.close()\n",
    "sys.exit()  #Terminate the program after sending the corresponding data"
   ]
  },
  {
   "cell_type": "code",
   "execution_count": null,
   "metadata": {},
   "outputs": [],
   "source": [
    ""
   ]
  }
 ],
 "metadata": {
  "kernelspec": {
   "display_name": "Python 2",
   "language": "python",
   "name": "python2"
  },
  "language_info": {
   "codemirror_mode": {
    "name": "ipython",
    "version": 2.0
   },
   "file_extension": ".py",
   "mimetype": "text/x-python",
   "name": "python",
   "nbconvert_exporter": "python",
   "pygments_lexer": "ipython2",
   "version": "2.7.6"
  }
 },
 "nbformat": 4,
 "nbformat_minor": 0
}