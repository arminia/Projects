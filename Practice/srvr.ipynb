{
 "cells": [
  {
   "cell_type": "code",
   "execution_count": 1,
   "metadata": {
    "collapsed": true
   },
   "outputs": [
    {
     "ename": "ValueError",
     "evalue": "invalid literal for int() with base 10: '-f'",
     "traceback": [
      "\u001b[0;31m---------------------------------------------------------------------------\u001b[0m",
      "\u001b[0;31mValueError\u001b[0m                                Traceback (most recent call last)",
      "\u001b[0;32m<ipython-input-1-bba7fd17c3f8>\u001b[0m in \u001b[0;36m<module>\u001b[0;34m()\u001b[0m\n\u001b[1;32m     26\u001b[0m \u001b[0mlstn\u001b[0m \u001b[1;33m=\u001b[0m \u001b[0msocket\u001b[0m\u001b[1;33m.\u001b[0m\u001b[0msocket\u001b[0m\u001b[1;33m(\u001b[0m\u001b[0msocket\u001b[0m\u001b[1;33m.\u001b[0m\u001b[0mAF_INET\u001b[0m\u001b[1;33m,\u001b[0m \u001b[0msocket\u001b[0m\u001b[1;33m.\u001b[0m\u001b[0mSOCK_STREAM\u001b[0m\u001b[1;33m)\u001b[0m\u001b[1;33m\u001b[0m\u001b[0m\n\u001b[1;32m     27\u001b[0m \u001b[1;33m\u001b[0m\u001b[0m\n\u001b[0;32m---> 28\u001b[0;31m \u001b[0mport\u001b[0m \u001b[1;33m=\u001b[0m \u001b[0mint\u001b[0m\u001b[1;33m(\u001b[0m\u001b[0msys\u001b[0m\u001b[1;33m.\u001b[0m\u001b[0margv\u001b[0m\u001b[1;33m[\u001b[0m\u001b[1;36m1\u001b[0m\u001b[1;33m]\u001b[0m\u001b[1;33m)\u001b[0m \u001b[1;31m#server port number\u001b[0m\u001b[1;33m\u001b[0m\u001b[0m\n\u001b[0m\u001b[1;32m     29\u001b[0m \u001b[1;31m# bind lstn socket to this port\u001b[0m\u001b[1;33m\u001b[0m\u001b[1;33m\u001b[0m\u001b[0m\n\u001b[1;32m     30\u001b[0m \u001b[0mlstn\u001b[0m\u001b[1;33m.\u001b[0m\u001b[0mbind\u001b[0m\u001b[1;33m(\u001b[0m\u001b[1;33m(\u001b[0m\u001b[1;34m''\u001b[0m\u001b[1;33m,\u001b[0m \u001b[0mport\u001b[0m\u001b[1;33m)\u001b[0m\u001b[1;33m)\u001b[0m\u001b[1;33m\u001b[0m\u001b[0m\n",
      "\u001b[0;31mValueError\u001b[0m: invalid literal for int() with base 10: '-f'"
     ],
     "output_type": "error"
    }
   ],
   "source": [
    "import socket\n",
    "import sys\n",
    "\n",
    "import threading\n",
    "\n",
    "# function for thread to serve a particular client\n",
    "\n",
    "def serveclient(c):\n",
    "    global v,nclnt,vlock,nclntlock\n",
    "    while(1):\n",
    "        # receive letter from client, if it is still connected\n",
    "        k = c.recv(1)\n",
    "        if k == '': break\n",
    "        # update v in an atomic manner\n",
    "        vlock.acquire()\n",
    "        v += k\n",
    "        vlock.release()\n",
    "        # send a new v to back to the client\n",
    "        c.send(v)\n",
    "    c.close()\n",
    "    nclnt.acquire()\n",
    "    nclnt -= 1\n",
    "    nclntlock.release()\n",
    "\n",
    "# set up internet TCP socket\n",
    "lstn = socket.socket(socket.AF_INET, socket.SOCK_STREAM)\n",
    "\n",
    "port = int(sys.argv[1]) #server port number\n",
    "# bind lstn socket to this port\n",
    "lstn.bind(('', port))\n",
    "# start listening for contacts from clients (at most 2 at a time)\n",
    "lstn.listen(5)\n",
    "\n",
    "#initialize v, total\n",
    "v= ''\n",
    "# set up a lock to guard v\n",
    "vlock = threading._allocate_lock()\n",
    "\n",
    "#nclnt will be the number of clients still connected\n",
    "nclnt= 2\n",
    "\n",
    "# set up a lock to guard nclnt\n",
    "nclntlock= threading._allocate_lock()\n",
    "\n",
    "#accept calls from the clients\n",
    "for i in range(nclnt):\n",
    "    # wait for call, then get a new socket to use for this client and get the client's address/port tuple (though not used)\n",
    "    (clnt, ap) = lstn.accept()\n",
    "    # start thread for this client, with serveclient() as the thread’s\n",
    "    # function, with parameters clnt; note that parameter set must be\n",
    "    # a tuple; in this case, the tuple is of length 1, so a comma is\n",
    "    # needed\n",
    "    threading.start_new_thread(serveclient,(clnt,))\n",
    "\n",
    "# shut down the server socket, since it's not needed anymore\n",
    "lstn.close()\n",
    "\n",
    "#wait for both threads to be finished\n",
    "\n",
    "while nclnt > 0: pass\n",
    "\n",
    "print(\"the final value is:\", v)"
   ]
  },
  {
   "cell_type": "code",
   "execution_count": null,
   "metadata": {},
   "outputs": [],
   "source": [
    ""
   ]
  }
 ],
 "metadata": {
  "kernelspec": {
   "display_name": "Python 2",
   "language": "python",
   "name": "python2"
  },
  "language_info": {
   "codemirror_mode": {
    "name": "ipython",
    "version": 2.0
   },
   "file_extension": ".py",
   "mimetype": "text/x-python",
   "name": "python",
   "nbconvert_exporter": "python",
   "pygments_lexer": "ipython2",
   "version": "2.7.6"
  }
 },
 "nbformat": 4,
 "nbformat_minor": 0
}